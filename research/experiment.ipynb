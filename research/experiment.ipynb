{
 "cells": [
  {
   "cell_type": "code",
   "execution_count": 2,
   "metadata": {},
   "outputs": [],
   "source": [
    "import os\n",
    "from dotenv import load_dotenv\n",
    "\n",
    "load_dotenv()\n",
    "OPENAI_API_KEY= os.getenv(\"OPENAI_API_KEY\")\n",
    "\n",
    "os.environ[\"OPENAI_API_KEY\"] = OPENAI_API_KEY"
   ]
  },
  {
   "cell_type": "code",
   "execution_count": 4,
   "metadata": {},
   "outputs": [
    {
     "data": {
      "text/plain": [
       "[Document(metadata={'producer': 'Microsoft® Word 2019', 'creator': 'Microsoft® Word 2019', 'creationdate': '2022-09-06T10:28:14+01:00', 'title': 'TOP TEN INTERNET SEARCH TIPS', 'author': 'Name', 'moddate': '2022-09-06T10:28:14+01:00', 'source': '../data/GoogleSearchTips.pdf', 'total_pages': 4, 'page': 0, 'page_label': '1'}, page_content='Library and Learning Spaces email: \\nAskaLibrarian@hope.ac.uk \\n  Last updated September 2022 \\n \\n \\n \\nGoogle and the Google logo are registered trademarks of Google Inc., used with permission  \\n \\n \\nTop search tips \\n \\nSearch Google more effectively by having a go at the following techniques….. \\n \\n1. Turn off personalised searching \\n \\nGoogle automatically pushes certain content at you that it assumes you will be \\ninterested in. This is based on: \\n \\ni. Where you are (geographically) \\nii. What you have searched for previously \\n \\nIn order to a do a more objective search of the web, you need to turn off personalised \\nsearching by: \\n \\n1. Ensure you are signed out of your Google Account \\n2. Open the search customization settings page \\n3. Turn the settings off. This will turn the setting off for anyone who uses the same \\nbrowser and device as you, unless another person signs in \\n \\n \\n2. Make sure Google finds all the words you searched for \\n \\nIf you search for several words at once, Google will ignore some of them if it thinks it \\nis not finding enough results. This can be really frustrating if you are looking for \\npages that specifically contain all the words you entered into the search box. \\n \\nYou can also try changing the order of your search terms (e.g. climate change UK to \\nUK climate change) as this will affect the order of the results.  \\n \\nFrom your results, choose tools. \\nChange All results to verbatim to ensure that all the words you searched for appear \\nin the results'),\n",
       " Document(metadata={'producer': 'Microsoft® Word 2019', 'creator': 'Microsoft® Word 2019', 'creationdate': '2022-09-06T10:28:14+01:00', 'title': 'TOP TEN INTERNET SEARCH TIPS', 'author': 'Name', 'moddate': '2022-09-06T10:28:14+01:00', 'source': '../data/GoogleSearchTips.pdf', 'total_pages': 4, 'page': 1, 'page_label': '2'}, page_content='Library and Learning Spaces email: \\nAskaLibrarian@hope.ac.uk \\n  Last updated September 2022 \\n \\n3. Search for an exact phrase: \\n \\nIf the subject you are describing is expressed as more than one word next to each \\nother, only retrieve results where the words appear immediately next to each other in \\nthe text by enclosing in speech marks “…” \\n \\ne.g. “climate change” \\n \\nThis doesn’t always work, so make sure you use the “verbatim” tip from above as well \\n \\n4. Restrict your search to a specific web domain \\n \\nThe most reliable websites for searching for research information are academic \\nwebsites and government websites. You can restrict your Google search to only \\nretrieve results from a particular kind of website.  \\n \\nYou can do this using the shortcut site: in the Google search box, together with \\nyour search term. It is also one of the options in Google advanced search. \\n \\nSite:.ac.uk obesity  \\nor  \\nAdvanced Search add .ac.uk to the box labelled ‘site or domain’ \\nThe above will only find pages from UK university websites containing obesity \\n \\nOther useful options include: \\n \\ngov.uk UK Government websites \\ngov US government websites \\nedu US University websites \\norg  Charity / not for profit websites \\norg.uk Charity / not for profit websites (UK based) \\nnhs.uk UK National Health Service websites \\n \\n \\n5. Search for Adobe Acrobat PDF documents \\n \\nPDF is the file format nearly always used to publish the kind of information you will \\nwant to look at for academic work e.g. academic research, government \\npublications etc. \\n \\nRestricting your search to only find PDF files is therefore an easy way of finding \\nauthoritative information freely available on the web. \\n  \\nYou can do this using the shortcut filetype: in the Google search box. It is also \\none of the options in Google advanced search. \\n \\nFiletype:pdf obesity \\n \\nThe above will only find PDF files containing obesity \\n \\n \\n6. Search for information on a specific website:'),\n",
       " Document(metadata={'producer': 'Microsoft® Word 2019', 'creator': 'Microsoft® Word 2019', 'creationdate': '2022-09-06T10:28:14+01:00', 'title': 'TOP TEN INTERNET SEARCH TIPS', 'author': 'Name', 'moddate': '2022-09-06T10:28:14+01:00', 'source': '../data/GoogleSearchTips.pdf', 'total_pages': 4, 'page': 2, 'page_label': '3'}, page_content='Library and Learning Spaces email: \\nAskaLibrarian@hope.ac.uk \\n  Last updated September 2022 \\n \\nIt can be really frustrating when you know which site you need to look at but can’t \\nfind the information you are looking for on that site. \\n \\nYou can use Google to only search a specific website. \\n \\nYou can do this using the shortcut site: in the Google search box. It is also one of \\nthe options in Google advanced search. \\n \\nSite:www.education.gov.uk universities \\n \\nThe above will only find web pages containing universities from the website \\nwww.education.gov.uk \\n \\n \\n7. Search for definitions: \\n \\nTo find a definition of a technical term, phrase or acronym, type the shortcut \\ndefine: immediately followed by your search word into the Google search box \\n \\n \\ne.g. define:dyspraxia \\n \\nRemember any definition you rely on for academic work should be from a \\nreputable source \\n \\n \\n8. Search only within the title of a webpage \\n \\nIf your search terms appear in the title of a page or PDF file, it is far more likely that \\nthe document will be directly relevant to your search words. \\n \\nYou can do this using the shortcut all in title: in the Google search box. It is also \\none of the options in Google advanced search using the option ‘terms \\nappearing:’, select ‘in the title of the page’ \\n \\ne.g. allintitle:obesity \\n \\nThe above will only find web pages containing obesity in the title \\n \\n9. Put it all together! \\n \\nBy combining a number of these search tips together you are more likely to find a \\nmanageable number of relevant, good quality results.  \\n \\nAllintitle:obesity site:ac.uk filetype:pdf \\n \\n10. Numerical ranges \\n \\nYou can search for websites with information on a topic between a certain date range. \\nTo do this, include … between two dates. \\n \\ne.g. obesity 2001…2003 \\n \\nThe above will only find the word obesity together with dates from 2001-2003.'),\n",
       " Document(metadata={'producer': 'Microsoft® Word 2019', 'creator': 'Microsoft® Word 2019', 'creationdate': '2022-09-06T10:28:14+01:00', 'title': 'TOP TEN INTERNET SEARCH TIPS', 'author': 'Name', 'moddate': '2022-09-06T10:28:14+01:00', 'source': '../data/GoogleSearchTips.pdf', 'total_pages': 4, 'page': 3, 'page_label': '4'}, page_content='Library and Learning Spaces email: \\nAskaLibrarian@hope.ac.uk \\n  Last updated September 2022 \\n \\n \\n11. Calculations \\n \\nIt is possible to use Google to calculate basic maths functions.  \\n \\ne.g. 5+7, 2*5, 10/2, 25% of 46 etc. \\n \\n \\n12. Easy references \\n \\nUse Google Scholar’s “cite” feature to quickly create your reference list. Remember to \\ncheck the reference is the same as the style used by your Subject.  \\n \\n \\n \\n \\n13. Setting Google Scholar to recognise you from off campus \\n \\nSign in to Googl e Scholar then select the 3 horizontal lines (usually top left),  then \\nselect:  \\n• Settings \\n• Library Links \\n• Search for Liverpool Hope University in the Search box \\n• Hit Save')]"
      ]
     },
     "execution_count": 4,
     "metadata": {},
     "output_type": "execute_result"
    }
   ],
   "source": [
    "from langchain.document_loaders import PyPDFLoader\n",
    "file_path = \"../data/GoogleSearchTips.pdf\"\n",
    "loader = PyPDFLoader(file_path)\n",
    "data = loader.load()\n",
    "data"
   ]
  },
  {
   "cell_type": "code",
   "execution_count": 6,
   "metadata": {},
   "outputs": [
    {
     "data": {
      "text/plain": [
       "'Library and Learning Spaces email: \\nAskaLibrarian@hope.ac.uk \\n  Last updated September 2022 \\n \\n \\n \\nGoogle and the Google logo are registered trademarks of Google Inc., used with permission  \\n \\n \\nTop search tips \\n \\nSearch Google more effectively by having a go at the following techniques….. \\n \\n1. Turn off personalised searching \\n \\nGoogle automatically pushes certain content at you that it assumes you will be \\ninterested in. This is based on: \\n \\ni. Where you are (geographically) \\nii. What you have searched for previously \\n \\nIn order to a do a more objective search of the web, you need to turn off personalised \\nsearching by: \\n \\n1. Ensure you are signed out of your Google Account \\n2. Open the search customization settings page \\n3. Turn the settings off. This will turn the setting off for anyone who uses the same \\nbrowser and device as you, unless another person signs in \\n \\n \\n2. Make sure Google finds all the words you searched for \\n \\nIf you search for several words at once, Google will ignore some of them if it thinks it \\nis not finding enough results. This can be really frustrating if you are looking for \\npages that specifically contain all the words you entered into the search box. \\n \\nYou can also try changing the order of your search terms (e.g. climate change UK to \\nUK climate change) as this will affect the order of the results.  \\n \\nFrom your results, choose tools. \\nChange All results to verbatim to ensure that all the words you searched for appear \\nin the resultsLibrary and Learning Spaces email: \\nAskaLibrarian@hope.ac.uk \\n  Last updated September 2022 \\n \\n3. Search for an exact phrase: \\n \\nIf the subject you are describing is expressed as more than one word next to each \\nother, only retrieve results where the words appear immediately next to each other in \\nthe text by enclosing in speech marks “…” \\n \\ne.g. “climate change” \\n \\nThis doesn’t always work, so make sure you use the “verbatim” tip from above as well \\n \\n4. Restrict your search to a specific web domain \\n \\nThe most reliable websites for searching for research information are academic \\nwebsites and government websites. You can restrict your Google search to only \\nretrieve results from a particular kind of website.  \\n \\nYou can do this using the shortcut site: in the Google search box, together with \\nyour search term. It is also one of the options in Google advanced search. \\n \\nSite:.ac.uk obesity  \\nor  \\nAdvanced Search add .ac.uk to the box labelled ‘site or domain’ \\nThe above will only find pages from UK university websites containing obesity \\n \\nOther useful options include: \\n \\ngov.uk UK Government websites \\ngov US government websites \\nedu US University websites \\norg  Charity / not for profit websites \\norg.uk Charity / not for profit websites (UK based) \\nnhs.uk UK National Health Service websites \\n \\n \\n5. Search for Adobe Acrobat PDF documents \\n \\nPDF is the file format nearly always used to publish the kind of information you will \\nwant to look at for academic work e.g. academic research, government \\npublications etc. \\n \\nRestricting your search to only find PDF files is therefore an easy way of finding \\nauthoritative information freely available on the web. \\n  \\nYou can do this using the shortcut filetype: in the Google search box. It is also \\none of the options in Google advanced search. \\n \\nFiletype:pdf obesity \\n \\nThe above will only find PDF files containing obesity \\n \\n \\n6. Search for information on a specific website:Library and Learning Spaces email: \\nAskaLibrarian@hope.ac.uk \\n  Last updated September 2022 \\n \\nIt can be really frustrating when you know which site you need to look at but can’t \\nfind the information you are looking for on that site. \\n \\nYou can use Google to only search a specific website. \\n \\nYou can do this using the shortcut site: in the Google search box. It is also one of \\nthe options in Google advanced search. \\n \\nSite:www.education.gov.uk universities \\n \\nThe above will only find web pages containing universities from the website \\nwww.education.gov.uk \\n \\n \\n7. Search for definitions: \\n \\nTo find a definition of a technical term, phrase or acronym, type the shortcut \\ndefine: immediately followed by your search word into the Google search box \\n \\n \\ne.g. define:dyspraxia \\n \\nRemember any definition you rely on for academic work should be from a \\nreputable source \\n \\n \\n8. Search only within the title of a webpage \\n \\nIf your search terms appear in the title of a page or PDF file, it is far more likely that \\nthe document will be directly relevant to your search words. \\n \\nYou can do this using the shortcut all in title: in the Google search box. It is also \\none of the options in Google advanced search using the option ‘terms \\nappearing:’, select ‘in the title of the page’ \\n \\ne.g. allintitle:obesity \\n \\nThe above will only find web pages containing obesity in the title \\n \\n9. Put it all together! \\n \\nBy combining a number of these search tips together you are more likely to find a \\nmanageable number of relevant, good quality results.  \\n \\nAllintitle:obesity site:ac.uk filetype:pdf \\n \\n10. Numerical ranges \\n \\nYou can search for websites with information on a topic between a certain date range. \\nTo do this, include … between two dates. \\n \\ne.g. obesity 2001…2003 \\n \\nThe above will only find the word obesity together with dates from 2001-2003.Library and Learning Spaces email: \\nAskaLibrarian@hope.ac.uk \\n  Last updated September 2022 \\n \\n \\n11. Calculations \\n \\nIt is possible to use Google to calculate basic maths functions.  \\n \\ne.g. 5+7, 2*5, 10/2, 25% of 46 etc. \\n \\n \\n12. Easy references \\n \\nUse Google Scholar’s “cite” feature to quickly create your reference list. Remember to \\ncheck the reference is the same as the style used by your Subject.  \\n \\n \\n \\n \\n13. Setting Google Scholar to recognise you from off campus \\n \\nSign in to Googl e Scholar then select the 3 horizontal lines (usually top left),  then \\nselect:  \\n• Settings \\n• Library Links \\n• Search for Liverpool Hope University in the Search box \\n• Hit Save'"
      ]
     },
     "execution_count": 6,
     "metadata": {},
     "output_type": "execute_result"
    }
   ],
   "source": [
    "pdfText = \"\"\n",
    "for page in data:\n",
    "    pdfText += page.page_content\n",
    "pdfText"
   ]
  },
  {
   "cell_type": "code",
   "execution_count": 7,
   "metadata": {},
   "outputs": [],
   "source": [
    "from langchain.text_splitter import TokenTextSplitter\n",
    "\n",
    "splitPDFTextForQuestionGeneration = TokenTextSplitter(\n",
    "    model_name= \"gpt-3.5-turbo\",\n",
    "    chunk_size= 10000,  # Produce just 1 chunk to pass to the Open AI model for question generation\n",
    "    chunk_overlap = 200\n",
    ")"
   ]
  },
  {
   "cell_type": "code",
   "execution_count": 12,
   "metadata": {},
   "outputs": [],
   "source": [
    "\n",
    "questionGenerationChunk = splitPDFTextForQuestionGeneration.split_text(pdfText)\n"
   ]
  },
  {
   "cell_type": "code",
   "execution_count": 13,
   "metadata": {},
   "outputs": [],
   "source": [
    "# Convert the str chunk to a document \n",
    "from langchain.docstore.document import Document\n",
    "questionGenerationDocument = [Document(page_content = t) for t in questionGenerationChunk]"
   ]
  },
  {
   "cell_type": "code",
   "execution_count": 23,
   "metadata": {},
   "outputs": [],
   "source": [
    "splitTextForAnswerGeneration = TokenTextSplitter(\n",
    "    model_name = 'gpt-3.5-turbo',\n",
    "    chunk_size = 1000,\n",
    "    chunk_overlap = 100\n",
    ")"
   ]
  },
  {
   "cell_type": "code",
   "execution_count": 24,
   "metadata": {},
   "outputs": [],
   "source": [
    "answerGenerationDocuments = splitTextForAnswerGeneration.split_documents(\n",
    "    questionGenerationDocument\n",
    ")"
   ]
  },
  {
   "cell_type": "code",
   "execution_count": 25,
   "metadata": {},
   "outputs": [
    {
     "data": {
      "text/plain": [
       "2"
      ]
     },
     "execution_count": 25,
     "metadata": {},
     "output_type": "execute_result"
    }
   ],
   "source": [
    "len(answerGenerationDocuments)"
   ]
  },
  {
   "cell_type": "code",
   "execution_count": 26,
   "metadata": {},
   "outputs": [],
   "source": [
    "from langchain.chat_models import ChatOpenAI"
   ]
  },
  {
   "cell_type": "code",
   "execution_count": 27,
   "metadata": {},
   "outputs": [
    {
     "name": "stderr",
     "output_type": "stream",
     "text": [
      "C:\\Users\\Tarang\\AppData\\Local\\Temp\\ipykernel_39100\\1473655646.py:1: LangChainDeprecationWarning: The class `ChatOpenAI` was deprecated in LangChain 0.0.10 and will be removed in 1.0. An updated version of the class exists in the :class:`~langchain-openai package and should be used instead. To use it run `pip install -U :class:`~langchain-openai` and import as `from :class:`~langchain_openai import ChatOpenAI``.\n",
      "  llm_ques_gen_pipeline = ChatOpenAI(\n"
     ]
    }
   ],
   "source": [
    "llm_ques_gen_pipeline = ChatOpenAI(\n",
    "    model = 'gpt-3.5-turbo',\n",
    "    temperature = 0.3\n",
    ")"
   ]
  },
  {
   "cell_type": "code",
   "execution_count": 28,
   "metadata": {},
   "outputs": [],
   "source": [
    "prompt_template = \"\"\"\n",
    "You are an expert at creating questions based on coding materials and documentation.\n",
    "Your goal is to prepare a coder or programmer for their exam and coding tests.\n",
    "You do this by asking questions about the text below:\n",
    "\n",
    "------------\n",
    "{text}\n",
    "------------\n",
    "\n",
    "Create questions that will prepare the coders or programmers for their tests.\n",
    "Make sure not to lose any important information.\n",
    "\n",
    "QUESTIONS:\n",
    "\"\"\""
   ]
  },
  {
   "cell_type": "code",
   "execution_count": 29,
   "metadata": {},
   "outputs": [],
   "source": [
    "from langchain.prompts import PromptTemplate\n",
    "PROMPT_QUESTIONS = PromptTemplate(template=prompt_template, input_variables=['text'])"
   ]
  },
  {
   "cell_type": "code",
   "execution_count": 30,
   "metadata": {},
   "outputs": [],
   "source": [
    "refine_template = (\"\"\"\n",
    "You are an expert at creating practice questions based on coding material and documentation.\n",
    "Your goal is to help a coder or programmer prepare for a coding test.\n",
    "We have received some practice questions to a certain extent: {existing_answer}.\n",
    "We have the option to refine the existing questions or add new ones.\n",
    "(only if necessary) with some more context below.\n",
    "------------\n",
    "{text}\n",
    "------------\n",
    "\n",
    "Given the new context, refine the original questions in English.\n",
    "If the context is not helpful, please provide the original questions.\n",
    "QUESTIONS:\n",
    "\"\"\"\n",
    ")\n"
   ]
  },
  {
   "cell_type": "code",
   "execution_count": 31,
   "metadata": {},
   "outputs": [],
   "source": [
    "REFINE_PROMPT_QUESTIONS = PromptTemplate(\n",
    "    input_variables=[\"existing_answer\", \"text\"],\n",
    "    template=refine_template,\n",
    ")"
   ]
  },
  {
   "cell_type": "code",
   "execution_count": 32,
   "metadata": {},
   "outputs": [],
   "source": [
    "from langchain.chains.summarize import load_summarize_chain"
   ]
  },
  {
   "cell_type": "code",
   "execution_count": 33,
   "metadata": {},
   "outputs": [],
   "source": [
    "ques_gen_chain = load_summarize_chain(llm = llm_ques_gen_pipeline, \n",
    "                                          chain_type = \"refine\", \n",
    "                                          verbose = True, \n",
    "                                          question_prompt=PROMPT_QUESTIONS, \n",
    "                                          refine_prompt=REFINE_PROMPT_QUESTIONS)"
   ]
  },
  {
   "cell_type": "code",
   "execution_count": 34,
   "metadata": {},
   "outputs": [
    {
     "name": "stderr",
     "output_type": "stream",
     "text": [
      "C:\\Users\\Tarang\\AppData\\Local\\Temp\\ipykernel_39100\\2868769257.py:1: LangChainDeprecationWarning: The method `Chain.run` was deprecated in langchain 0.1.0 and will be removed in 1.0. Use :meth:`~invoke` instead.\n",
      "  ques = ques_gen_chain.run(questionGenerationDocument)\n"
     ]
    },
    {
     "name": "stdout",
     "output_type": "stream",
     "text": [
      "\n",
      "\n",
      "\u001b[1m> Entering new RefineDocumentsChain chain...\u001b[0m\n",
      "\n",
      "\n",
      "\u001b[1m> Entering new LLMChain chain...\u001b[0m\n",
      "Prompt after formatting:\n",
      "\u001b[32;1m\u001b[1;3m\n",
      "You are an expert at creating questions based on coding materials and documentation.\n",
      "Your goal is to prepare a coder or programmer for their exam and coding tests.\n",
      "You do this by asking questions about the text below:\n",
      "\n",
      "------------\n",
      "Library and Learning Spaces email: \n",
      "AskaLibrarian@hope.ac.uk \n",
      "  Last updated September 2022 \n",
      " \n",
      " \n",
      " \n",
      "Google and the Google logo are registered trademarks of Google Inc., used with permission  \n",
      " \n",
      " \n",
      "Top search tips \n",
      " \n",
      "Search Google more effectively by having a go at the following techniques….. \n",
      " \n",
      "1. Turn off personalised searching \n",
      " \n",
      "Google automatically pushes certain content at you that it assumes you will be \n",
      "interested in. This is based on: \n",
      " \n",
      "i. Where you are (geographically) \n",
      "ii. What you have searched for previously \n",
      " \n",
      "In order to a do a more objective search of the web, you need to turn off personalised \n",
      "searching by: \n",
      " \n",
      "1. Ensure you are signed out of your Google Account \n",
      "2. Open the search customization settings page \n",
      "3. Turn the settings off. This will turn the setting off for anyone who uses the same \n",
      "browser and device as you, unless another person signs in \n",
      " \n",
      " \n",
      "2. Make sure Google finds all the words you searched for \n",
      " \n",
      "If you search for several words at once, Google will ignore some of them if it thinks it \n",
      "is not finding enough results. This can be really frustrating if you are looking for \n",
      "pages that specifically contain all the words you entered into the search box. \n",
      " \n",
      "You can also try changing the order of your search terms (e.g. climate change UK to \n",
      "UK climate change) as this will affect the order of the results.  \n",
      " \n",
      "From your results, choose tools. \n",
      "Change All results to verbatim to ensure that all the words you searched for appear \n",
      "in the resultsLibrary and Learning Spaces email: \n",
      "AskaLibrarian@hope.ac.uk \n",
      "  Last updated September 2022 \n",
      " \n",
      "3. Search for an exact phrase: \n",
      " \n",
      "If the subject you are describing is expressed as more than one word next to each \n",
      "other, only retrieve results where the words appear immediately next to each other in \n",
      "the text by enclosing in speech marks “…” \n",
      " \n",
      "e.g. “climate change” \n",
      " \n",
      "This doesn’t always work, so make sure you use the “verbatim” tip from above as well \n",
      " \n",
      "4. Restrict your search to a specific web domain \n",
      " \n",
      "The most reliable websites for searching for research information are academic \n",
      "websites and government websites. You can restrict your Google search to only \n",
      "retrieve results from a particular kind of website.  \n",
      " \n",
      "You can do this using the shortcut site: in the Google search box, together with \n",
      "your search term. It is also one of the options in Google advanced search. \n",
      " \n",
      "Site:.ac.uk obesity  \n",
      "or  \n",
      "Advanced Search add .ac.uk to the box labelled ‘site or domain’ \n",
      "The above will only find pages from UK university websites containing obesity \n",
      " \n",
      "Other useful options include: \n",
      " \n",
      "gov.uk UK Government websites \n",
      "gov US government websites \n",
      "edu US University websites \n",
      "org  Charity / not for profit websites \n",
      "org.uk Charity / not for profit websites (UK based) \n",
      "nhs.uk UK National Health Service websites \n",
      " \n",
      " \n",
      "5. Search for Adobe Acrobat PDF documents \n",
      " \n",
      "PDF is the file format nearly always used to publish the kind of information you will \n",
      "want to look at for academic work e.g. academic research, government \n",
      "publications etc. \n",
      " \n",
      "Restricting your search to only find PDF files is therefore an easy way of finding \n",
      "authoritative information freely available on the web. \n",
      "  \n",
      "You can do this using the shortcut filetype: in the Google search box. It is also \n",
      "one of the options in Google advanced search. \n",
      " \n",
      "Filetype:pdf obesity \n",
      " \n",
      "The above will only find PDF files containing obesity \n",
      " \n",
      " \n",
      "6. Search for information on a specific website:Library and Learning Spaces email: \n",
      "AskaLibrarian@hope.ac.uk \n",
      "  Last updated September 2022 \n",
      " \n",
      "It can be really frustrating when you know which site you need to look at but can’t \n",
      "find the information you are looking for on that site. \n",
      " \n",
      "You can use Google to only search a specific website. \n",
      " \n",
      "You can do this using the shortcut site: in the Google search box. It is also one of \n",
      "the options in Google advanced search. \n",
      " \n",
      "Site:www.education.gov.uk universities \n",
      " \n",
      "The above will only find web pages containing universities from the website \n",
      "www.education.gov.uk \n",
      " \n",
      " \n",
      "7. Search for definitions: \n",
      " \n",
      "To find a definition of a technical term, phrase or acronym, type the shortcut \n",
      "define: immediately followed by your search word into the Google search box \n",
      " \n",
      " \n",
      "e.g. define:dyspraxia \n",
      " \n",
      "Remember any definition you rely on for academic work should be from a \n",
      "reputable source \n",
      " \n",
      " \n",
      "8. Search only within the title of a webpage \n",
      " \n",
      "If your search terms appear in the title of a page or PDF file, it is far more likely that \n",
      "the document will be directly relevant to your search words. \n",
      " \n",
      "You can do this using the shortcut all in title: in the Google search box. It is also \n",
      "one of the options in Google advanced search using the option ‘terms \n",
      "appearing:’, select ‘in the title of the page’ \n",
      " \n",
      "e.g. allintitle:obesity \n",
      " \n",
      "The above will only find web pages containing obesity in the title \n",
      " \n",
      "9. Put it all together! \n",
      " \n",
      "By combining a number of these search tips together you are more likely to find a \n",
      "manageable number of relevant, good quality results.  \n",
      " \n",
      "Allintitle:obesity site:ac.uk filetype:pdf \n",
      " \n",
      "10. Numerical ranges \n",
      " \n",
      "You can search for websites with information on a topic between a certain date range. \n",
      "To do this, include … between two dates. \n",
      " \n",
      "e.g. obesity 2001…2003 \n",
      " \n",
      "The above will only find the word obesity together with dates from 2001-2003.Library and Learning Spaces email: \n",
      "AskaLibrarian@hope.ac.uk \n",
      "  Last updated September 2022 \n",
      " \n",
      " \n",
      "11. Calculations \n",
      " \n",
      "It is possible to use Google to calculate basic maths functions.  \n",
      " \n",
      "e.g. 5+7, 2*5, 10/2, 25% of 46 etc. \n",
      " \n",
      " \n",
      "12. Easy references \n",
      " \n",
      "Use Google Scholar’s “cite” feature to quickly create your reference list. Remember to \n",
      "check the reference is the same as the style used by your Subject.  \n",
      " \n",
      " \n",
      " \n",
      " \n",
      "13. Setting Google Scholar to recognise you from off campus \n",
      " \n",
      "Sign in to Googl e Scholar then select the 3 horizontal lines (usually top left),  then \n",
      "select:  \n",
      "• Settings \n",
      "• Library Links \n",
      "• Search for Liverpool Hope University in the Search box \n",
      "• Hit Save\n",
      "------------\n",
      "\n",
      "Create questions that will prepare the coders or programmers for their tests.\n",
      "Make sure not to lose any important information.\n",
      "\n",
      "QUESTIONS:\n",
      "\u001b[0m\n",
      "\n",
      "\u001b[1m> Finished chain.\u001b[0m\n",
      "\n",
      "\u001b[1m> Finished chain.\u001b[0m\n",
      "1. How can you turn off personalized searching on Google for a more objective search of the web?\n",
      "2. What technique can you use to ensure that all the words you searched for appear in the results on Google?\n",
      "3. How can you search for an exact phrase on Google?\n",
      "4. How can you restrict your Google search to a specific web domain?\n",
      "5. Why is searching for Adobe Acrobat PDF documents useful for academic work?\n",
      "6. How can you search for information on a specific website using Google?\n",
      "7. What shortcut can you use to find definitions of technical terms, phrases, or acronyms on Google?\n",
      "8. Why is it beneficial to search only within the title of a webpage on Google?\n",
      "9. How can you combine multiple search tips on Google to find relevant and high-quality results?\n",
      "10. How can you search for websites with information on a topic between a certain date range on Google?\n",
      "11. In what ways can you use Google for basic math calculations?\n",
      "12. How can you use Google Scholar's \"cite\" feature to quickly create a reference list?\n",
      "13. How can you set Google Scholar to recognize you from off-campus for easier access to resources?\n"
     ]
    }
   ],
   "source": [
    "ques = ques_gen_chain.run(questionGenerationDocument)\n",
    "\n",
    "print(ques)"
   ]
  },
  {
   "cell_type": "code",
   "execution_count": 35,
   "metadata": {},
   "outputs": [],
   "source": [
    "from langchain.embeddings.openai import OpenAIEmbeddings"
   ]
  },
  {
   "cell_type": "code",
   "execution_count": 36,
   "metadata": {},
   "outputs": [
    {
     "name": "stderr",
     "output_type": "stream",
     "text": [
      "C:\\Users\\Tarang\\AppData\\Local\\Temp\\ipykernel_39100\\2497576997.py:1: LangChainDeprecationWarning: The class `OpenAIEmbeddings` was deprecated in LangChain 0.0.9 and will be removed in 1.0. An updated version of the class exists in the :class:`~langchain-openai package and should be used instead. To use it run `pip install -U :class:`~langchain-openai` and import as `from :class:`~langchain_openai import OpenAIEmbeddings``.\n",
      "  embeddings = OpenAIEmbeddings()\n"
     ]
    }
   ],
   "source": [
    "embeddings = OpenAIEmbeddings()"
   ]
  },
  {
   "cell_type": "code",
   "execution_count": 37,
   "metadata": {},
   "outputs": [],
   "source": [
    "from langchain.vectorstores import FAISS"
   ]
  },
  {
   "cell_type": "code",
   "execution_count": 39,
   "metadata": {},
   "outputs": [],
   "source": [
    "vector_store = FAISS.from_documents(answerGenerationDocuments, embeddings)"
   ]
  },
  {
   "cell_type": "code",
   "execution_count": 40,
   "metadata": {},
   "outputs": [],
   "source": [
    "llm_answer_gen = ChatOpenAI(temperature=0.1, model=\"gpt-3.5-turbo\")"
   ]
  },
  {
   "cell_type": "code",
   "execution_count": 41,
   "metadata": {},
   "outputs": [
    {
     "data": {
      "text/plain": [
       "['1. How can you turn off personalized searching on Google for a more objective search of the web?',\n",
       " '2. What technique can you use to ensure that all the words you searched for appear in the results on Google?',\n",
       " '3. How can you search for an exact phrase on Google?',\n",
       " '4. How can you restrict your Google search to a specific web domain?',\n",
       " '5. Why is searching for Adobe Acrobat PDF documents useful for academic work?',\n",
       " '6. How can you search for information on a specific website using Google?',\n",
       " '7. What shortcut can you use to find definitions of technical terms, phrases, or acronyms on Google?',\n",
       " '8. Why is it beneficial to search only within the title of a webpage on Google?',\n",
       " '9. How can you combine multiple search tips on Google to find relevant and high-quality results?',\n",
       " '10. How can you search for websites with information on a topic between a certain date range on Google?',\n",
       " '11. In what ways can you use Google for basic math calculations?',\n",
       " '12. How can you use Google Scholar\\'s \"cite\" feature to quickly create a reference list?',\n",
       " '13. How can you set Google Scholar to recognize you from off-campus for easier access to resources?']"
      ]
     },
     "execution_count": 41,
     "metadata": {},
     "output_type": "execute_result"
    }
   ],
   "source": [
    "ques_list = ques.split(\"\\n\")\n",
    "ques_list"
   ]
  },
  {
   "cell_type": "code",
   "execution_count": 42,
   "metadata": {},
   "outputs": [],
   "source": [
    "from langchain.chains import RetrievalQA"
   ]
  },
  {
   "cell_type": "code",
   "execution_count": 43,
   "metadata": {},
   "outputs": [],
   "source": [
    "answer_generation_chain = RetrievalQA.from_chain_type(llm=llm_answer_gen, \n",
    "                                               chain_type=\"stuff\", \n",
    "                                               retriever=vector_store.as_retriever())\n"
   ]
  },
  {
   "cell_type": "code",
   "execution_count": 44,
   "metadata": {},
   "outputs": [
    {
     "name": "stdout",
     "output_type": "stream",
     "text": [
      "Question:  1. How can you turn off personalized searching on Google for a more objective search of the web?\n",
      "Answer:  To turn off personalized searching on Google for a more objective search of the web, you need to follow these steps:\n",
      "\n",
      "1. Ensure you are signed out of your Google Account.\n",
      "2. Open the search customization settings page.\n",
      "3. Turn the settings off. This will turn the setting off for anyone who uses the same browser and device as you, unless another person signs in.\n",
      "--------------------------------------------------\\n\\n\n",
      "Question:  2. What technique can you use to ensure that all the words you searched for appear in the results on Google?\n",
      "Answer:  To ensure that all the words you searched for appear in the results on Google, you can change the search settings to \"Verbatim.\" This setting will make sure that all the words you entered into the search box are included in the results. You can access this setting by choosing \"Tools\" after getting your search results and then changing from \"All results\" to \"Verbatim.\"\n",
      "--------------------------------------------------\\n\\n\n",
      "Question:  3. How can you search for an exact phrase on Google?\n",
      "Answer:  To search for an exact phrase on Google, you can enclose the phrase in quotation marks. For example, if you want to search for the exact phrase \"climate change,\" you would type it as \"climate change\" in the Google search box. This helps Google retrieve results where the words appear immediately next to each other in the text. Remember to also use the \"Verbatim\" search tool to ensure all the words you searched for appear in the results.\n",
      "--------------------------------------------------\\n\\n\n",
      "Question:  4. How can you restrict your Google search to a specific web domain?\n",
      "Answer:  To restrict your Google search to a specific web domain, you can use the \"site:\" operator in the Google search box. For example, if you want to search for information only on UK university websites about obesity, you would type \"site:.ac.uk obesity\" in the search bar. This will only find pages from UK university websites containing information about obesity. You can also use this option in Google's advanced search settings by adding the domain extension in the box labeled 'site or domain.'\n",
      "--------------------------------------------------\\n\\n\n",
      "Question:  5. Why is searching for Adobe Acrobat PDF documents useful for academic work?\n",
      "Answer:  Searching for Adobe Acrobat PDF documents is useful for academic work because PDF is the file format commonly used to publish academic research, government publications, and other authoritative information. By restricting your search to only find PDF files, you can easily access and reference credible information freely available on the web. This format ensures that the content is presented in a consistent and professional manner, making it easier for researchers and students to access and cite reliable sources for their academic work.\n",
      "--------------------------------------------------\\n\\n\n",
      "Question:  6. How can you search for information on a specific website using Google?\n",
      "Answer:  You can search for information on a specific website using Google by using the \"site:\" operator in the Google search box. For example, if you want to find information about universities on the website www.education.gov.uk, you would type \"site:www.education.gov.uk universities\" in the search box. This will only find web pages containing universities from that specific website.\n",
      "--------------------------------------------------\\n\\n\n",
      "Question:  7. What shortcut can you use to find definitions of technical terms, phrases, or acronyms on Google?\n",
      "Answer:  To find definitions of technical terms, phrases, or acronyms on Google, you can use the shortcut \"define:\" followed immediately by your search word. For example, if you want to find the definition of \"dyspraxia,\" you would type \"define:dyspraxia\" in the Google search box.\n",
      "--------------------------------------------------\\n\\n\n",
      "Question:  8. Why is it beneficial to search only within the title of a webpage on Google?\n",
      "Answer:  Searching only within the title of a webpage on Google is beneficial because if your search terms appear in the title of a page or PDF file, it is more likely that the document will be directly relevant to your search words. This helps you find more specific and relevant results related to your search query.\n",
      "--------------------------------------------------\\n\\n\n",
      "Question:  9. How can you combine multiple search tips on Google to find relevant and high-quality results?\n",
      "Answer:  To combine multiple search tips on Google to find relevant and high-quality results, you can use a combination of techniques such as:\n",
      "\n",
      "1. Using specific search terms: Utilize specific keywords related to your topic.\n",
      "2. Restricting search to a specific domain: Use the \"site:\" operator to search within a specific domain like \".ac.uk\" for academic websites.\n",
      "3. Searching for PDF files: Use the \"filetype:\" operator to find PDF documents for authoritative information.\n",
      "4. Searching within the title of a webpage: Use \"allintitle:\" to search for terms that appear in the title of a page for more relevant results.\n",
      "5. Using numerical ranges: Include numerical ranges to search for information within a specific date range.\n",
      "6. Turning off personalized searching: Disable personalized search settings for a more objective search.\n",
      "7. Searching for an exact phrase: Enclose phrases in quotation marks for exact matches.\n",
      "8. Searching for definitions: Use the \"define:\" operator to find definitions from reputable sources.\n",
      "9. Searching on a specific website: Use the \"site:\" operator to search within a specific website for information.\n",
      "\n",
      "By combining these techniques effectively, you can increase the chances of finding relevant and high-quality results on Google.\n",
      "--------------------------------------------------\\n\\n\n",
      "Question:  10. How can you search for websites with information on a topic between a certain date range on Google?\n",
      "Answer:  To search for websites with information on a topic between a certain date range on Google, you can include the dates between two periods. For example, if you are looking for information on \"obesity\" between the years 2001 and 2003, you would type \"obesity 2001...2003\" in the search bar. This will help narrow down your search results to the specified date range.\n",
      "--------------------------------------------------\\n\\n\n",
      "Question:  11. In what ways can you use Google for basic math calculations?\n",
      "Answer:  You can use Google for basic math calculations by typing in simple math functions directly into the search bar. For example, you can type in operations like addition (5+7), multiplication (2*5), division (10/2), or finding percentages (25% of 46). Just type the math operation you want to calculate, and Google will provide you with the answer.\n",
      "--------------------------------------------------\\n\\n\n",
      "Question:  12. How can you use Google Scholar's \"cite\" feature to quickly create a reference list?\n",
      "Answer:  To use Google Scholar's \"cite\" feature to quickly create a reference list, you can follow these steps:\n",
      "\n",
      "1. Go to Google Scholar and search for the academic source you want to cite.\n",
      "2. Find the specific source you want to reference.\n",
      "3. Click on the quotation mark icon (\") below the source.\n",
      "4. A window will pop up with different citation formats (APA, MLA, Chicago, etc.).\n",
      "5. Select the citation style you need.\n",
      "6. Copy the citation provided and paste it into your reference list.\n",
      "\n",
      "Remember to double-check the citation format to ensure it aligns with the style required for your academic work.\n",
      "--------------------------------------------------\\n\\n\n",
      "Question:  13. How can you set Google Scholar to recognize you from off-campus for easier access to resources?\n",
      "Answer:  To set Google Scholar to recognize you from off-campus for easier access to resources, you can follow these steps:\n",
      "\n",
      "1. Sign in to Google Scholar.\n",
      "2. Select the three horizontal lines (usually at the top left).\n",
      "3. Choose \"Settings.\"\n",
      "4. Click on \"Library Links.\"\n",
      "5. Search for \"Liverpool Hope University\" in the search box.\n",
      "6. Hit \"Save.\"\n",
      "\n",
      "By following these steps, Google Scholar will recognize you from off-campus, making it easier for you to access resources.\n",
      "--------------------------------------------------\\n\\n\n"
     ]
    }
   ],
   "source": [
    "# Answer each question and save to a file\n",
    "for question in ques_list:\n",
    "    print(\"Question: \", question)\n",
    "    answer = answer_generation_chain.run(question)\n",
    "    print(\"Answer: \", answer)\n",
    "    print(\"--------------------------------------------------\\\\n\\\\n\")\n",
    "    # Save answer to file\n",
    "    with open(\"answers.txt\", \"a\") as f:\n",
    "        f.write(\"Question: \" + question + \"\\\\n\")\n",
    "        f.write(\"Answer: \" + answer + \"\\\\n\")\n",
    "        f.write(\"--------------------------------------------------\\\\n\\\\n\")\n",
    "\n",
    "\n"
   ]
  }
 ],
 "metadata": {
  "kernelspec": {
   "display_name": "interview-question-creator",
   "language": "python",
   "name": "python3"
  },
  "language_info": {
   "codemirror_mode": {
    "name": "ipython",
    "version": 3
   },
   "file_extension": ".py",
   "mimetype": "text/x-python",
   "name": "python",
   "nbconvert_exporter": "python",
   "pygments_lexer": "ipython3",
   "version": "3.10.16"
  }
 },
 "nbformat": 4,
 "nbformat_minor": 2
}
